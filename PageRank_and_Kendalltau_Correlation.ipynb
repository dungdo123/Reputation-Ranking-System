{
  "nbformat": 4,
  "nbformat_minor": 0,
  "metadata": {
    "colab": {
      "name": "PageRank_and_Kendalltau_Correlation.ipynb",
      "provenance": [],
      "collapsed_sections": []
    },
    "kernelspec": {
      "name": "python3",
      "display_name": "Python 3"
    },
    "language_info": {
      "name": "python"
    }
  },
  "cells": [
    {
      "cell_type": "code",
      "execution_count": null,
      "metadata": {
        "colab": {
          "base_uri": "https://localhost:8080/"
        },
        "id": "xaYS6_4JZHU9",
        "outputId": "e2f81c84-1f2e-41f8-bd67-cf93f841e647"
      },
      "outputs": [
        {
          "output_type": "stream",
          "name": "stdout",
          "text": [
            "Drive already mounted at /content/gdrive; to attempt to forcibly remount, call drive.mount(\"/content/gdrive\", force_remount=True).\n"
          ]
        }
      ],
      "source": [
        "from google.colab import drive\n",
        "drive.mount('/content/gdrive')\n"
      ]
    },
    {
      "cell_type": "code",
      "source": [
        "import pandas as pd\n",
        "import numpy as np"
      ],
      "metadata": {
        "id": "5t48NdprZRFE"
      },
      "execution_count": null,
      "outputs": []
    },
    {
      "cell_type": "markdown",
      "source": [
        "**Pagerank**"
      ],
      "metadata": {
        "id": "7B5E_67Edbri"
      }
    },
    {
      "cell_type": "code",
      "source": [
        "# init graph\n",
        "\n",
        "import numpy as np\n",
        "\n",
        "class Graph:\n",
        "  def __init__(self):\n",
        "    self.nodes = []\n",
        "  \n",
        "  def contains(self, name):\n",
        "    for node in self.nodes:\n",
        "      if(node.name == name):\n",
        "        return True\n",
        "    return False\n",
        "  \n",
        "  # Return the node with the name, create and return new node if not found\n",
        "  def find(self, name):\n",
        "    if(not self.contains(name)):\n",
        "      new_node = Node(name)\n",
        "      #print(new_node.name)\n",
        "      self.nodes.append(new_node)\n",
        "      return new_node\n",
        "    else:\n",
        "      return next(node for node in self.nodes if node.name == name)\n",
        "  \n",
        "  def add_edge(self, parent, child):\n",
        "    parent_node = self.find(parent)\n",
        "    child_node = self.find(child)\n",
        "\n",
        "    parent_node.link_child(child_node)\n",
        "    child_node.link_parent(parent_node)\n",
        "  \n",
        "  def display(self):\n",
        "    for node in self.nodes:\n",
        "      print(f'{node.name} links to {[child.name for child in node.children]}')\n",
        "      #print(node.name)\n",
        "  \n",
        "  def sort_nodes(self):\n",
        "    self.nodes.sort(key=lambda node: int(node.name))\n",
        "  \n",
        "  def normalize_pagerank(self):\n",
        "    pagerank_sum = sum(node.pagerank for node in self.nodes)\n",
        "\n",
        "    for node in self.nodes:\n",
        "      node.pagerank = node.pagerank/pagerank_sum\n",
        "  \n",
        "  def get_pagerank_list(self):\n",
        "    pagerank_list = np.asarray([node.pagerank for node in self.nodes], dtype='float32')\n",
        "    #return np.round(pagerank_list,9)\n",
        "    return pagerank_list\n",
        "\n",
        "class Node:\n",
        "  def __init__(self, name):\n",
        "    self.name = name\n",
        "    self.children = []\n",
        "    self.parents = []\n",
        "    self.pagerank = 1.0\n",
        "  \n",
        "  def link_child(self, new_child):\n",
        "    for child in self.children:\n",
        "      if (child.name == new_child.name):\n",
        "        return None\n",
        "    self.children.append(new_child)\n",
        "  \n",
        "  def link_parent(self, new_parent):\n",
        "    for parent in self.parents:\n",
        "      if(parent.name == new_parent.name):\n",
        "        return None \n",
        "    self.parents.append(new_parent)\n",
        "  \n",
        "  def update_pagerank(self, d, n):\n",
        "    in_neighbors = self.parents\n",
        "    pagerank_sum = sum((node.pagerank/len(node.children)) for node in in_neighbors)\n",
        "    random_jumping = d/n \n",
        "    self.pagerank = random_jumping + (1-d)*pagerank_sum\n"
      ],
      "metadata": {
        "id": "CfZt_ZaBdd35"
      },
      "execution_count": null,
      "outputs": []
    },
    {
      "cell_type": "code",
      "source": [
        "# util init graph with txt file\n",
        "def init_graph(fname):\n",
        "  with open(fname) as f:\n",
        "    lines = f.readlines()\n",
        "  \n",
        "  graph = Graph()\n",
        "\n",
        "  for line in lines:\n",
        "    [parent, child] = line.strip().split(',')\n",
        "    graph.add_edge(parent, child)\n",
        "  \n",
        "  graph.sort_nodes()\n",
        "\n",
        "  return graph"
      ],
      "metadata": {
        "id": "X9gKaH09di2K"
      },
      "execution_count": null,
      "outputs": []
    },
    {
      "cell_type": "code",
      "source": [
        "# Pagerank functions\n",
        "def Pagerank_one_iter(graph, d):\n",
        "  node_list = graph.nodes\n",
        "  for node in node_list:\n",
        "    node.update_pagerank(d, len(graph.nodes))\n",
        "  graph.normalize_pagerank()\n",
        "\n",
        "def PageRank(graph, d, iteration=100):\n",
        "  for i in range(iteration):\n",
        "    Pagerank_one_iter(graph, d)\n",
        "    "
      ],
      "metadata": {
        "id": "udFWiMksduCD"
      },
      "execution_count": null,
      "outputs": []
    },
    {
      "cell_type": "code",
      "source": [
        "#convert csv to txt\n",
        "with open(\"masked_dataset_300_filtered.csv\") as f:\n",
        "  lines = f.readlines()\n",
        "\n",
        "pairs = []\n",
        "for line in lines[1:]:\n",
        "  nodes = line.strip().split(',')\n",
        "  pair = (int(nodes[0]), int(nodes[1]))\n",
        "  pairs.append(pair)\n",
        "\n",
        "with open('masked_dataset_300_filtered.txt', 'w') as f:\n",
        "  for pair in pairs:\n",
        "    f.write(f'{pair[0]},{pair[1]}\\n')"
      ],
      "metadata": {
        "id": "RiS-e4mEd1G2"
      },
      "execution_count": null,
      "outputs": []
    },
    {
      "cell_type": "code",
      "source": [
        "graph= init_graph('masked_dataset_300_filtered.txt')"
      ],
      "metadata": {
        "id": "qfpYeZcTd8RW"
      },
      "execution_count": null,
      "outputs": []
    },
    {
      "cell_type": "code",
      "source": [
        "trans_counting_list = pd.read_csv(\"masked_300_gas_count.csv\")"
      ],
      "metadata": {
        "id": "gRJQu2XbentD"
      },
      "execution_count": null,
      "outputs": []
    },
    {
      "cell_type": "code",
      "source": [
        "trans_counting_list.head(10)"
      ],
      "metadata": {
        "colab": {
          "base_uri": "https://localhost:8080/",
          "height": 363
        },
        "id": "_HBo-z2FpBZW",
        "outputId": "e0d30ac7-2ee0-4bfc-c1ed-ad9ebccbaf56"
      },
      "execution_count": null,
      "outputs": [
        {
          "output_type": "execute_result",
          "data": {
            "text/plain": [
              "   node    NoT     NoR  Node_degree   sent_gas  received_gas   total_gas\n",
              "0     0   63.0    14.0         77.0  1464148.0      294000.0   1758148.0\n",
              "1     1    0.0     1.0          1.0        0.0       21000.0     21000.0\n",
              "2     2    1.0     0.0          1.0   128629.0           0.0    128629.0\n",
              "3     3    0.0   424.0        424.0        0.0    66796831.0  66796831.0\n",
              "4     4  214.0     0.0        214.0  4664115.0           0.0   4664115.0\n",
              "5     5    0.0     1.0          1.0        0.0       21000.0     21000.0\n",
              "6     6    1.0     0.0          1.0    21000.0           0.0     21000.0\n",
              "7     7   18.0    46.0         64.0   430893.0      966000.0   1396893.0\n",
              "8     8    1.0     0.0          1.0    31097.0           0.0     31097.0\n",
              "9     9    0.0  2297.0       2297.0        0.0    89771110.0  89771110.0"
            ],
            "text/html": [
              "\n",
              "  <div id=\"df-4f2ec7ab-5332-4f01-9255-737e7bd5ca74\">\n",
              "    <div class=\"colab-df-container\">\n",
              "      <div>\n",
              "<style scoped>\n",
              "    .dataframe tbody tr th:only-of-type {\n",
              "        vertical-align: middle;\n",
              "    }\n",
              "\n",
              "    .dataframe tbody tr th {\n",
              "        vertical-align: top;\n",
              "    }\n",
              "\n",
              "    .dataframe thead th {\n",
              "        text-align: right;\n",
              "    }\n",
              "</style>\n",
              "<table border=\"1\" class=\"dataframe\">\n",
              "  <thead>\n",
              "    <tr style=\"text-align: right;\">\n",
              "      <th></th>\n",
              "      <th>node</th>\n",
              "      <th>NoT</th>\n",
              "      <th>NoR</th>\n",
              "      <th>Node_degree</th>\n",
              "      <th>sent_gas</th>\n",
              "      <th>received_gas</th>\n",
              "      <th>total_gas</th>\n",
              "    </tr>\n",
              "  </thead>\n",
              "  <tbody>\n",
              "    <tr>\n",
              "      <th>0</th>\n",
              "      <td>0</td>\n",
              "      <td>63.0</td>\n",
              "      <td>14.0</td>\n",
              "      <td>77.0</td>\n",
              "      <td>1464148.0</td>\n",
              "      <td>294000.0</td>\n",
              "      <td>1758148.0</td>\n",
              "    </tr>\n",
              "    <tr>\n",
              "      <th>1</th>\n",
              "      <td>1</td>\n",
              "      <td>0.0</td>\n",
              "      <td>1.0</td>\n",
              "      <td>1.0</td>\n",
              "      <td>0.0</td>\n",
              "      <td>21000.0</td>\n",
              "      <td>21000.0</td>\n",
              "    </tr>\n",
              "    <tr>\n",
              "      <th>2</th>\n",
              "      <td>2</td>\n",
              "      <td>1.0</td>\n",
              "      <td>0.0</td>\n",
              "      <td>1.0</td>\n",
              "      <td>128629.0</td>\n",
              "      <td>0.0</td>\n",
              "      <td>128629.0</td>\n",
              "    </tr>\n",
              "    <tr>\n",
              "      <th>3</th>\n",
              "      <td>3</td>\n",
              "      <td>0.0</td>\n",
              "      <td>424.0</td>\n",
              "      <td>424.0</td>\n",
              "      <td>0.0</td>\n",
              "      <td>66796831.0</td>\n",
              "      <td>66796831.0</td>\n",
              "    </tr>\n",
              "    <tr>\n",
              "      <th>4</th>\n",
              "      <td>4</td>\n",
              "      <td>214.0</td>\n",
              "      <td>0.0</td>\n",
              "      <td>214.0</td>\n",
              "      <td>4664115.0</td>\n",
              "      <td>0.0</td>\n",
              "      <td>4664115.0</td>\n",
              "    </tr>\n",
              "    <tr>\n",
              "      <th>5</th>\n",
              "      <td>5</td>\n",
              "      <td>0.0</td>\n",
              "      <td>1.0</td>\n",
              "      <td>1.0</td>\n",
              "      <td>0.0</td>\n",
              "      <td>21000.0</td>\n",
              "      <td>21000.0</td>\n",
              "    </tr>\n",
              "    <tr>\n",
              "      <th>6</th>\n",
              "      <td>6</td>\n",
              "      <td>1.0</td>\n",
              "      <td>0.0</td>\n",
              "      <td>1.0</td>\n",
              "      <td>21000.0</td>\n",
              "      <td>0.0</td>\n",
              "      <td>21000.0</td>\n",
              "    </tr>\n",
              "    <tr>\n",
              "      <th>7</th>\n",
              "      <td>7</td>\n",
              "      <td>18.0</td>\n",
              "      <td>46.0</td>\n",
              "      <td>64.0</td>\n",
              "      <td>430893.0</td>\n",
              "      <td>966000.0</td>\n",
              "      <td>1396893.0</td>\n",
              "    </tr>\n",
              "    <tr>\n",
              "      <th>8</th>\n",
              "      <td>8</td>\n",
              "      <td>1.0</td>\n",
              "      <td>0.0</td>\n",
              "      <td>1.0</td>\n",
              "      <td>31097.0</td>\n",
              "      <td>0.0</td>\n",
              "      <td>31097.0</td>\n",
              "    </tr>\n",
              "    <tr>\n",
              "      <th>9</th>\n",
              "      <td>9</td>\n",
              "      <td>0.0</td>\n",
              "      <td>2297.0</td>\n",
              "      <td>2297.0</td>\n",
              "      <td>0.0</td>\n",
              "      <td>89771110.0</td>\n",
              "      <td>89771110.0</td>\n",
              "    </tr>\n",
              "  </tbody>\n",
              "</table>\n",
              "</div>\n",
              "      <button class=\"colab-df-convert\" onclick=\"convertToInteractive('df-4f2ec7ab-5332-4f01-9255-737e7bd5ca74')\"\n",
              "              title=\"Convert this dataframe to an interactive table.\"\n",
              "              style=\"display:none;\">\n",
              "        \n",
              "  <svg xmlns=\"http://www.w3.org/2000/svg\" height=\"24px\"viewBox=\"0 0 24 24\"\n",
              "       width=\"24px\">\n",
              "    <path d=\"M0 0h24v24H0V0z\" fill=\"none\"/>\n",
              "    <path d=\"M18.56 5.44l.94 2.06.94-2.06 2.06-.94-2.06-.94-.94-2.06-.94 2.06-2.06.94zm-11 1L8.5 8.5l.94-2.06 2.06-.94-2.06-.94L8.5 2.5l-.94 2.06-2.06.94zm10 10l.94 2.06.94-2.06 2.06-.94-2.06-.94-.94-2.06-.94 2.06-2.06.94z\"/><path d=\"M17.41 7.96l-1.37-1.37c-.4-.4-.92-.59-1.43-.59-.52 0-1.04.2-1.43.59L10.3 9.45l-7.72 7.72c-.78.78-.78 2.05 0 2.83L4 21.41c.39.39.9.59 1.41.59.51 0 1.02-.2 1.41-.59l7.78-7.78 2.81-2.81c.8-.78.8-2.07 0-2.86zM5.41 20L4 18.59l7.72-7.72 1.47 1.35L5.41 20z\"/>\n",
              "  </svg>\n",
              "      </button>\n",
              "      \n",
              "  <style>\n",
              "    .colab-df-container {\n",
              "      display:flex;\n",
              "      flex-wrap:wrap;\n",
              "      gap: 12px;\n",
              "    }\n",
              "\n",
              "    .colab-df-convert {\n",
              "      background-color: #E8F0FE;\n",
              "      border: none;\n",
              "      border-radius: 50%;\n",
              "      cursor: pointer;\n",
              "      display: none;\n",
              "      fill: #1967D2;\n",
              "      height: 32px;\n",
              "      padding: 0 0 0 0;\n",
              "      width: 32px;\n",
              "    }\n",
              "\n",
              "    .colab-df-convert:hover {\n",
              "      background-color: #E2EBFA;\n",
              "      box-shadow: 0px 1px 2px rgba(60, 64, 67, 0.3), 0px 1px 3px 1px rgba(60, 64, 67, 0.15);\n",
              "      fill: #174EA6;\n",
              "    }\n",
              "\n",
              "    [theme=dark] .colab-df-convert {\n",
              "      background-color: #3B4455;\n",
              "      fill: #D2E3FC;\n",
              "    }\n",
              "\n",
              "    [theme=dark] .colab-df-convert:hover {\n",
              "      background-color: #434B5C;\n",
              "      box-shadow: 0px 1px 3px 1px rgba(0, 0, 0, 0.15);\n",
              "      filter: drop-shadow(0px 1px 2px rgba(0, 0, 0, 0.3));\n",
              "      fill: #FFFFFF;\n",
              "    }\n",
              "  </style>\n",
              "\n",
              "      <script>\n",
              "        const buttonEl =\n",
              "          document.querySelector('#df-4f2ec7ab-5332-4f01-9255-737e7bd5ca74 button.colab-df-convert');\n",
              "        buttonEl.style.display =\n",
              "          google.colab.kernel.accessAllowed ? 'block' : 'none';\n",
              "\n",
              "        async function convertToInteractive(key) {\n",
              "          const element = document.querySelector('#df-4f2ec7ab-5332-4f01-9255-737e7bd5ca74');\n",
              "          const dataTable =\n",
              "            await google.colab.kernel.invokeFunction('convertToInteractive',\n",
              "                                                     [key], {});\n",
              "          if (!dataTable) return;\n",
              "\n",
              "          const docLinkHtml = 'Like what you see? Visit the ' +\n",
              "            '<a target=\"_blank\" href=https://colab.research.google.com/notebooks/data_table.ipynb>data table notebook</a>'\n",
              "            + ' to learn more about interactive tables.';\n",
              "          element.innerHTML = '';\n",
              "          dataTable['output_type'] = 'display_data';\n",
              "          await google.colab.output.renderOutput(dataTable, element);\n",
              "          const docLink = document.createElement('div');\n",
              "          docLink.innerHTML = docLinkHtml;\n",
              "          element.appendChild(docLink);\n",
              "        }\n",
              "      </script>\n",
              "    </div>\n",
              "  </div>\n",
              "  "
            ]
          },
          "metadata": {},
          "execution_count": 228
        }
      ]
    },
    {
      "cell_type": "code",
      "source": [
        "node_degree = trans_counting_list.Node_degree\n",
        "num_of_transfer = trans_counting_list.NoT\n",
        "num_of_receive = trans_counting_list.NoR\n",
        "sent_gas =trans_counting_list.sent_gas\n",
        "re_gas = trans_counting_list. received_gas\n",
        "total_gas = trans_counting_list.total_gas\n"
      ],
      "metadata": {
        "id": "wkq95IDyerEv"
      },
      "execution_count": null,
      "outputs": []
    },
    {
      "cell_type": "markdown",
      "source": [
        "\n",
        "Run pagerank with damping factor changing"
      ],
      "metadata": {
        "id": "Nni8zEQXlyqV"
      }
    },
    {
      "cell_type": "code",
      "source": [
        "\n",
        "iteration = 100\n",
        "list_pg_rank = []\n",
        "list_corr = []\n",
        "for d_ in np.arange(0.1, 0.9, 0.05):\n",
        "  d = 1 - d_\n",
        "  PageRank(graph, d, iteration)\n",
        "  rank_vector = graph.get_pagerank_list()\n",
        "  list_pg_rank.append(rank_vector)\n",
        "  page_list = []\n",
        "  for j in range(len(rank_vector)):\n",
        "    node_score = {\"address_id\":j, \"pgrank_score\":rank_vector[j]}\n",
        "    page_list.append(node_score)\n",
        "  print(1-d)\n",
        "  pagerank_list = sorted(page_list, key = lambda row_:row_['pgrank_score'], reverse=True)\n",
        "  print(pagerank_list[:20])"
      ],
      "metadata": {
        "id": "C663MewKfWFu",
        "colab": {
          "base_uri": "https://localhost:8080/"
        },
        "outputId": "ae22ea90-ede1-4d98-cdce-a61264d57a07"
      },
      "execution_count": null,
      "outputs": [
        {
          "output_type": "stream",
          "name": "stdout",
          "text": [
            "0.09999999999999998\n",
            "[{'address_id': 18, 'pgrank_score': 0.015055358}, {'address_id': 9, 'pgrank_score': 0.012090955}, {'address_id': 22, 'pgrank_score': 0.008810301}, {'address_id': 46, 'pgrank_score': 0.0029732576}, {'address_id': 3, 'pgrank_score': 0.0020474955}, {'address_id': 161, 'pgrank_score': 0.0020134524}, {'address_id': 218, 'pgrank_score': 0.0013619988}, {'address_id': 184, 'pgrank_score': 0.0010166189}, {'address_id': 37, 'pgrank_score': 0.0009807763}, {'address_id': 60, 'pgrank_score': 0.00092195434}, {'address_id': 78, 'pgrank_score': 0.0008532724}, {'address_id': 187, 'pgrank_score': 0.00083631504}, {'address_id': 581, 'pgrank_score': 0.0007613543}, {'address_id': 148, 'pgrank_score': 0.00068951497}, {'address_id': 302, 'pgrank_score': 0.00066170684}, {'address_id': 405, 'pgrank_score': 0.0006579296}, {'address_id': 258, 'pgrank_score': 0.00055136625}, {'address_id': 54, 'pgrank_score': 0.00054610573}, {'address_id': 20, 'pgrank_score': 0.00052386476}, {'address_id': 104, 'pgrank_score': 0.00046800773}]\n",
            "0.15000000000000002\n",
            "[{'address_id': 18, 'pgrank_score': 0.02221392}, {'address_id': 9, 'pgrank_score': 0.017840922}, {'address_id': 22, 'pgrank_score': 0.013237886}, {'address_id': 46, 'pgrank_score': 0.004368361}, {'address_id': 3, 'pgrank_score': 0.0029979525}, {'address_id': 161, 'pgrank_score': 0.0029469426}, {'address_id': 218, 'pgrank_score': 0.0019848198}, {'address_id': 184, 'pgrank_score': 0.0014748301}, {'address_id': 37, 'pgrank_score': 0.0014221723}, {'address_id': 60, 'pgrank_score': 0.001337381}, {'address_id': 78, 'pgrank_score': 0.0012363321}, {'address_id': 187, 'pgrank_score': 0.0012094129}, {'address_id': 581, 'pgrank_score': 0.0010984746}, {'address_id': 148, 'pgrank_score': 0.0009918482}, {'address_id': 302, 'pgrank_score': 0.0009506128}, {'address_id': 405, 'pgrank_score': 0.000946622}, {'address_id': 104, 'pgrank_score': 0.00089293596}, {'address_id': 122, 'pgrank_score': 0.00083229213}, {'address_id': 258, 'pgrank_score': 0.00078865665}, {'address_id': 54, 'pgrank_score': 0.00077993475}]\n",
            "0.20000000000000007\n",
            "[{'address_id': 18, 'pgrank_score': 0.02918003}, {'address_id': 9, 'pgrank_score': 0.023440389}, {'address_id': 22, 'pgrank_score': 0.017740047}, {'address_id': 46, 'pgrank_score': 0.005727743}, {'address_id': 3, 'pgrank_score': 0.003922735}, {'address_id': 161, 'pgrank_score': 0.0038545188}, {'address_id': 218, 'pgrank_score': 0.002590315}, {'address_id': 184, 'pgrank_score': 0.0019202617}, {'address_id': 37, 'pgrank_score': 0.0018514228}, {'address_id': 60, 'pgrank_score': 0.0017429208}, {'address_id': 78, 'pgrank_score': 0.0016106386}, {'address_id': 187, 'pgrank_score': 0.001572804}, {'address_id': 104, 'pgrank_score': 0.0014688116}, {'address_id': 581, 'pgrank_score': 0.0014266323}, {'address_id': 122, 'pgrank_score': 0.0013902452}, {'address_id': 148, 'pgrank_score': 0.0012857789}, {'address_id': 302, 'pgrank_score': 0.001231372}, {'address_id': 405, 'pgrank_score': 0.0012282883}, {'address_id': 258, 'pgrank_score': 0.0010200096}, {'address_id': 54, 'pgrank_score': 0.0010071511}]\n",
            "0.25\n",
            "[{'address_id': 18, 'pgrank_score': 0.035973605}, {'address_id': 9, 'pgrank_score': 0.02890523}, {'address_id': 22, 'pgrank_score': 0.02235156}, {'address_id': 46, 'pgrank_score': 0.007055356}, {'address_id': 3, 'pgrank_score': 0.0048245355}, {'address_id': 161, 'pgrank_score': 0.0047386666}, {'address_id': 218, 'pgrank_score': 0.0031802023}, {'address_id': 184, 'pgrank_score': 0.0023541292}, {'address_id': 37, 'pgrank_score': 0.0022696832}, {'address_id': 104, 'pgrank_score': 0.0022024086}, {'address_id': 60, 'pgrank_score': 0.0021397606}, {'address_id': 122, 'pgrank_score': 0.0021069692}, {'address_id': 78, 'pgrank_score': 0.001977281}, {'address_id': 187, 'pgrank_score': 0.0019276099}, {'address_id': 581, 'pgrank_score': 0.0017467606}, {'address_id': 148, 'pgrank_score': 0.0015721197}, {'address_id': 302, 'pgrank_score': 0.0015047592}, {'address_id': 405, 'pgrank_score': 0.0015037294}, {'address_id': 258, 'pgrank_score': 0.0012461463}, {'address_id': 54, 'pgrank_score': 0.0012283681}]\n",
            "0.30000000000000004\n",
            "[{'address_id': 18, 'pgrank_score': 0.04261006}, {'address_id': 9, 'pgrank_score': 0.034247722}, {'address_id': 22, 'pgrank_score': 0.027112797}, {'address_id': 46, 'pgrank_score': 0.008354337}, {'address_id': 3, 'pgrank_score': 0.0057054316}, {'address_id': 161, 'pgrank_score': 0.005601251}, {'address_id': 218, 'pgrank_score': 0.0037558128}, {'address_id': 104, 'pgrank_score': 0.003103341}, {'address_id': 122, 'pgrank_score': 0.0029920521}, {'address_id': 184, 'pgrank_score': 0.0027773432}, {'address_id': 37, 'pgrank_score': 0.0026778153}, {'address_id': 60, 'pgrank_score': 0.002528842}, {'address_id': 78, 'pgrank_score': 0.0023371323}, {'address_id': 187, 'pgrank_score': 0.0022747486}, {'address_id': 581, 'pgrank_score': 0.00205958}, {'address_id': 148, 'pgrank_score': 0.001851487}, {'address_id': 405, 'pgrank_score': 0.0017735745}, {'address_id': 302, 'pgrank_score': 0.0017713577}, {'address_id': 258, 'pgrank_score': 0.0014676506}, {'address_id': 54, 'pgrank_score': 0.001444043}]\n",
            "0.3500000000000001\n",
            "[{'address_id': 18, 'pgrank_score': 0.049100377}, {'address_id': 9, 'pgrank_score': 0.039476592}, {'address_id': 22, 'pgrank_score': 0.032072622}, {'address_id': 46, 'pgrank_score': 0.009627021}, {'address_id': 3, 'pgrank_score': 0.00656689}, {'address_id': 161, 'pgrank_score': 0.006443511}, {'address_id': 218, 'pgrank_score': 0.004318096}, {'address_id': 104, 'pgrank_score': 0.0041848645}, {'address_id': 122, 'pgrank_score': 0.004058745}, {'address_id': 184, 'pgrank_score': 0.0031905067}, {'address_id': 37, 'pgrank_score': 0.0030763848}, {'address_id': 60, 'pgrank_score': 0.0029108643}, {'address_id': 78, 'pgrank_score': 0.0026908545}, {'address_id': 187, 'pgrank_score': 0.0026149466}, {'address_id': 581, 'pgrank_score': 0.0023656008}, {'address_id': 148, 'pgrank_score': 0.002124302}, {'address_id': 405, 'pgrank_score': 0.0020382828}, {'address_id': 302, 'pgrank_score': 0.0020315587}, {'address_id': 258, 'pgrank_score': 0.0016849755}, {'address_id': 54, 'pgrank_score': 0.0016544743}]\n",
            "0.40000000000000013\n",
            "[{'address_id': 18, 'pgrank_score': 0.055450514}, {'address_id': 9, 'pgrank_score': 0.044596553}, {'address_id': 22, 'pgrank_score': 0.037292447}, {'address_id': 46, 'pgrank_score': 0.010874856}, {'address_id': 3, 'pgrank_score': 0.0074096844}, {'address_id': 161, 'pgrank_score': 0.007265975}, {'address_id': 104, 'pgrank_score': 0.0054651205}, {'address_id': 122, 'pgrank_score': 0.0053252093}, {'address_id': 218, 'pgrank_score': 0.004867579}, {'address_id': 184, 'pgrank_score': 0.003593873}, {'address_id': 37, 'pgrank_score': 0.0034656199}, {'address_id': 60, 'pgrank_score': 0.003286254}, {'address_id': 78, 'pgrank_score': 0.0030388713}, {'address_id': 187, 'pgrank_score': 0.0029487289}, {'address_id': 581, 'pgrank_score': 0.002665096}, {'address_id': 148, 'pgrank_score': 0.0023907674}, {'address_id': 405, 'pgrank_score': 0.0022981202}, {'address_id': 302, 'pgrank_score': 0.0022855343}, {'address_id': 258, 'pgrank_score': 0.0018984322}, {'address_id': 54, 'pgrank_score': 0.0018597803}]\n",
            "0.45000000000000007\n",
            "[{'address_id': 18, 'pgrank_score': 0.06165997}, {'address_id': 9, 'pgrank_score': 0.04960717}, {'address_id': 22, 'pgrank_score': 0.042852223}, {'address_id': 46, 'pgrank_score': 0.0120981345}, {'address_id': 3, 'pgrank_score': 0.008233684}, {'address_id': 161, 'pgrank_score': 0.00806824}, {'address_id': 104, 'pgrank_score': 0.0069690663}, {'address_id': 122, 'pgrank_score': 0.006816452}, {'address_id': 218, 'pgrank_score': 0.0054042386}, {'address_id': 184, 'pgrank_score': 0.0039872383}, {'address_id': 37, 'pgrank_score': 0.0038453068}, {'address_id': 60, 'pgrank_score': 0.0036550763}, {'address_id': 78, 'pgrank_score': 0.0033812942}, {'address_id': 187, 'pgrank_score': 0.0032763667}, {'address_id': 581, 'pgrank_score': 0.0029580332}, {'address_id': 148, 'pgrank_score': 0.0026508023}, {'address_id': 405, 'pgrank_score': 0.0025530993}, {'address_id': 302, 'pgrank_score': 0.002533172}, {'address_id': 258, 'pgrank_score': 0.0021081537}, {'address_id': 54, 'pgrank_score': 0.0020598439}]\n",
            "0.5000000000000001\n",
            "[{'address_id': 18, 'pgrank_score': 0.06771844}, {'address_id': 9, 'pgrank_score': 0.054500237}, {'address_id': 22, 'pgrank_score': 0.04885947}, {'address_id': 46, 'pgrank_score': 0.013295382}, {'address_id': 3, 'pgrank_score': 0.009037394}, {'address_id': 161, 'pgrank_score': 0.008848512}, {'address_id': 104, 'pgrank_score': 0.008731494}, {'address_id': 122, 'pgrank_score': 0.0085673565}, {'address_id': 218, 'pgrank_score': 0.005927229}, {'address_id': 184, 'pgrank_score': 0.0043697124}, {'address_id': 37, 'pgrank_score': 0.004214569}, {'address_id': 60, 'pgrank_score': 0.0040168418}, {'address_id': 78, 'pgrank_score': 0.003717747}, {'address_id': 187, 'pgrank_score': 0.0035977527}, {'address_id': 581, 'pgrank_score': 0.0032439206}, {'address_id': 148, 'pgrank_score': 0.0029039043}, {'address_id': 405, 'pgrank_score': 0.0028028416}, {'address_id': 302, 'pgrank_score': 0.00277393}, {'address_id': 258, 'pgrank_score': 0.0023140071}, {'address_id': 54, 'pgrank_score': 0.0022541943}]\n",
            "0.5500000000000002\n",
            "[{'address_id': 18, 'pgrank_score': 0.07359789}, {'address_id': 9, 'pgrank_score': 0.059253573}, {'address_id': 22, 'pgrank_score': 0.05546224}, {'address_id': 46, 'pgrank_score': 0.014461857}, {'address_id': 104, 'pgrank_score': 0.010801635}, {'address_id': 122, 'pgrank_score': 0.010627312}, {'address_id': 3, 'pgrank_score': 0.009816852}, {'address_id': 161, 'pgrank_score': 0.009602501}, {'address_id': 218, 'pgrank_score': 0.0064342045}, {'address_id': 184, 'pgrank_score': 0.0047391816}, {'address_id': 37, 'pgrank_score': 0.004571345}, {'address_id': 60, 'pgrank_score': 0.004370027}, {'address_id': 78, 'pgrank_score': 0.004046936}, {'address_id': 187, 'pgrank_score': 0.003912064}, {'address_id': 581, 'pgrank_score': 0.003521436}, {'address_id': 148, 'pgrank_score': 0.003148818}, {'address_id': 405, 'pgrank_score': 0.003046245}, {'address_id': 302, 'pgrank_score': 0.0030065007}, {'address_id': 258, 'pgrank_score': 0.0025153693}, {'address_id': 54, 'pgrank_score': 0.002441732}]\n",
            "0.6000000000000002\n",
            "[{'address_id': 18, 'pgrank_score': 0.07922178}, {'address_id': 9, 'pgrank_score': 0.06380676}, {'address_id': 22, 'pgrank_score': 0.062854715}, {'address_id': 46, 'pgrank_score': 0.015583565}, {'address_id': 104, 'pgrank_score': 0.013247396}, {'address_id': 122, 'pgrank_score': 0.013064518}, {'address_id': 3, 'pgrank_score': 0.010561458}, {'address_id': 161, 'pgrank_score': 0.010319343}, {'address_id': 218, 'pgrank_score': 0.0069186846}, {'address_id': 184, 'pgrank_score': 0.005090295}, {'address_id': 37, 'pgrank_score': 0.0049104504}, {'address_id': 60, 'pgrank_score': 0.004710222}, {'address_id': 78, 'pgrank_score': 0.0043649464}, {'address_id': 187, 'pgrank_score': 0.004216284}, {'address_id': 581, 'pgrank_score': 0.0037869827}, {'address_id': 148, 'pgrank_score': 0.0033822507}, {'address_id': 405, 'pgrank_score': 0.003280198}, {'address_id': 302, 'pgrank_score': 0.003227541}, {'address_id': 258, 'pgrank_score': 0.002710164}, {'address_id': 54, 'pgrank_score': 0.0026196965}]\n",
            "0.6500000000000001\n",
            "[{'address_id': 18, 'pgrank_score': 0.08323747}, {'address_id': 22, 'pgrank_score': 0.070046}, {'address_id': 9, 'pgrank_score': 0.06707141}, {'address_id': 46, 'pgrank_score': 0.01639444}, {'address_id': 104, 'pgrank_score': 0.015882283}, {'address_id': 122, 'pgrank_score': 0.015695449}, {'address_id': 3, 'pgrank_score': 0.011090744}, {'address_id': 161, 'pgrank_score': 0.010822754}, {'address_id': 218, 'pgrank_score': 0.0072634607}, {'address_id': 8056, 'pgrank_score': 0.0054639704}, {'address_id': 184, 'pgrank_score': 0.005336315}, {'address_id': 37, 'pgrank_score': 0.0051482753}, {'address_id': 60, 'pgrank_score': 0.004956503}, {'address_id': 78, 'pgrank_score': 0.004596835}, {'address_id': 187, 'pgrank_score': 0.004439661}, {'address_id': 581, 'pgrank_score': 0.0039762068}, {'address_id': 148, 'pgrank_score': 0.0035469627}, {'address_id': 405, 'pgrank_score': 0.003448573}, {'address_id': 302, 'pgrank_score': 0.003382305}, {'address_id': 258, 'pgrank_score': 0.0028530234}]\n",
            "0.7000000000000002\n",
            "[{'address_id': 8056, 'pgrank_score': 0.08311232}, {'address_id': 18, 'pgrank_score': 0.067034096}, {'address_id': 22, 'pgrank_score': 0.056567114}, {'address_id': 9, 'pgrank_score': 0.05400883}, {'address_id': 3385, 'pgrank_score': 0.040254176}, {'address_id': 9631, 'pgrank_score': 0.03933128}, {'address_id': 2156, 'pgrank_score': 0.039264597}, {'address_id': 104, 'pgrank_score': 0.01376679}, {'address_id': 122, 'pgrank_score': 0.013617733}, {'address_id': 46, 'pgrank_score': 0.013206359}, {'address_id': 3, 'pgrank_score': 0.008933058}, {'address_id': 161, 'pgrank_score': 0.008711495}, {'address_id': 218, 'pgrank_score': 0.00585173}, {'address_id': 184, 'pgrank_score': 0.004295825}, {'address_id': 37, 'pgrank_score': 0.0041461973}, {'address_id': 60, 'pgrank_score': 0.0039916774}, {'address_id': 78, 'pgrank_score': 0.0037032708}, {'address_id': 187, 'pgrank_score': 0.0035800538}, {'address_id': 581, 'pgrank_score': 0.0032016418}, {'address_id': 148, 'pgrank_score': 0.0028558199}]\n",
            "0.7500000000000002\n",
            "[{'address_id': 8056, 'pgrank_score': 0.15432838}, {'address_id': 3385, 'pgrank_score': 0.074412584}, {'address_id': 9631, 'pgrank_score': 0.07269908}, {'address_id': 2156, 'pgrank_score': 0.07257522}, {'address_id': 18, 'pgrank_score': 0.052206475}, {'address_id': 22, 'pgrank_score': 0.044065177}, {'address_id': 9, 'pgrank_score': 0.04205593}, {'address_id': 104, 'pgrank_score': 0.011458218}, {'address_id': 122, 'pgrank_score': 0.01134313}, {'address_id': 46, 'pgrank_score': 0.010287465}, {'address_id': 3, 'pgrank_score': 0.0069581945}, {'address_id': 161, 'pgrank_score': 0.006781333}, {'address_id': 218, 'pgrank_score': 0.004559402}, {'address_id': 184, 'pgrank_score': 0.0033444792}, {'address_id': 37, 'pgrank_score': 0.0032293906}, {'address_id': 60, 'pgrank_score': 0.00310848}, {'address_id': 78, 'pgrank_score': 0.0028847929}, {'address_id': 187, 'pgrank_score': 0.0027917444}, {'address_id': 581, 'pgrank_score': 0.0024930527}, {'address_id': 148, 'pgrank_score': 0.0022236935}]\n",
            "0.8000000000000002\n",
            "[{'address_id': 8056, 'pgrank_score': 0.2177313}, {'address_id': 3385, 'pgrank_score': 0.1046184}, {'address_id': 9631, 'pgrank_score': 0.102201514}, {'address_id': 2156, 'pgrank_score': 0.1020268}, {'address_id': 18, 'pgrank_score': 0.039189395}, {'address_id': 22, 'pgrank_score': 0.033082265}, {'address_id': 9, 'pgrank_score': 0.031564564}, {'address_id': 104, 'pgrank_score': 0.00915346}, {'address_id': 122, 'pgrank_score': 0.009067815}, {'address_id': 46, 'pgrank_score': 0.0077242474}, {'address_id': 3, 'pgrank_score': 0.005223972}, {'address_id': 161, 'pgrank_score': 0.005087958}, {'address_id': 218, 'pgrank_score': 0.0034242028}, {'address_id': 184, 'pgrank_score': 0.0025096715}, {'address_id': 37, 'pgrank_score': 0.0024243637}, {'address_id': 60, 'pgrank_score': 0.0023331603}, {'address_id': 78, 'pgrank_score': 0.002165941}, {'address_id': 187, 'pgrank_score': 0.00209844}, {'address_id': 581, 'pgrank_score': 0.0018711207}, {'address_id': 148, 'pgrank_score': 0.0016688801}]\n",
            "0.8500000000000002\n",
            "[{'address_id': 8056, 'pgrank_score': 0.2745661}, {'address_id': 3385, 'pgrank_score': 0.13157639}, {'address_id': 9631, 'pgrank_score': 0.12852943}, {'address_id': 2156, 'pgrank_score': 0.12830916}, {'address_id': 18, 'pgrank_score': 0.027684908}, {'address_id': 22, 'pgrank_score': 0.023373028}, {'address_id': 9, 'pgrank_score': 0.022294508}, {'address_id': 104, 'pgrank_score': 0.0068564024}, {'address_id': 122, 'pgrank_score': 0.006796428}, {'address_id': 46, 'pgrank_score': 0.0054581068}, {'address_id': 3, 'pgrank_score': 0.003690857}, {'address_id': 161, 'pgrank_score': 0.00359246}, {'address_id': 218, 'pgrank_score': 0.0024202103}, {'address_id': 184, 'pgrank_score': 0.0017722512}, {'address_id': 37, 'pgrank_score': 0.0017127536}, {'address_id': 60, 'pgrank_score': 0.0016480127}, {'address_id': 78, 'pgrank_score': 0.001530374}, {'address_id': 187, 'pgrank_score': 0.0014844578}, {'address_id': 581, 'pgrank_score': 0.001321595}, {'address_id': 148, 'pgrank_score': 0.0011786782}]\n"
          ]
        }
      ]
    },
    {
      "cell_type": "code",
      "source": [
        "corr_not = []\n",
        "corr_nor = []\n",
        "corr_node_degree = []\n",
        "corr_sent_gas = []\n",
        "corr_re_gas = []\n",
        "corr_total_gas = []"
      ],
      "metadata": {
        "id": "T-Rn0KOZhdo-"
      },
      "execution_count": null,
      "outputs": []
    },
    {
      "cell_type": "code",
      "source": [
        "from scipy.stats import kendalltau"
      ],
      "metadata": {
        "id": "2xAC69AhhwDo"
      },
      "execution_count": null,
      "outputs": []
    },
    {
      "cell_type": "code",
      "source": [
        "for pg_rank in list_pg_rank:\n",
        "  corr, _ = kendalltau(num_of_receive, pg_rank)\n",
        "  corr_nor.append(corr)\n",
        "\n",
        "for pg_rank in list_pg_rank:\n",
        "  corr, _ = kendalltau(num_of_transfer, pg_rank)\n",
        "  corr_not.append(corr)\n",
        "\n",
        "for pg_rank in list_pg_rank:\n",
        "  corr, _ = kendalltau(node_degree, pg_rank)\n",
        "  corr_node_degree.append(corr)\n",
        "\n",
        "for pg_rank in list_pg_rank:\n",
        "  corr, _ = kendalltau(sent_gas, pg_rank)\n",
        "  corr_sent_gas.append(corr)\n",
        "\n",
        "for pg_rank in list_pg_rank:\n",
        "  corr, _ = kendalltau(re_gas, pg_rank)\n",
        "  corr_re_gas.append(corr)\n",
        "\n",
        "for pg_rank in list_pg_rank:\n",
        "  corr, _ = kendalltau(total_gas, pg_rank)\n",
        "  corr_total_gas.append(corr)"
      ],
      "metadata": {
        "id": "fu1Wd7omhy09"
      },
      "execution_count": null,
      "outputs": []
    },
    {
      "cell_type": "code",
      "source": [
        "corr_nor_300 = corr_nor.copy()"
      ],
      "metadata": {
        "id": "W5p-u6nuMDLW"
      },
      "execution_count": null,
      "outputs": []
    },
    {
      "cell_type": "code",
      "source": [
        "corr_nor_100_norm= []\n",
        "for value in corr_nor_100:\n",
        "  value_norm = (value - min(corr_nor_100))/(max(corr_nor_100) - min(corr_nor_100))\n",
        "  corr_nor_100_norm.append(value_norm)"
      ],
      "metadata": {
        "id": "K2goc7WzoDLf"
      },
      "execution_count": null,
      "outputs": []
    },
    {
      "cell_type": "code",
      "source": [
        "corr_nor_50_norm= []\n",
        "for value in corr_nor_50:\n",
        "  value_norm = (value - min(corr_nor_50))/(max(corr_nor_50) - min(corr_nor_50))\n",
        "  corr_nor_50_norm.append(value_norm)"
      ],
      "metadata": {
        "id": "R8gAA_Ruoz8B"
      },
      "execution_count": null,
      "outputs": []
    },
    {
      "cell_type": "code",
      "source": [
        "corr_nor_10_norm= []\n",
        "for value in corr_nor_10:\n",
        "  value_norm = (value - min(corr_nor_10))/(max(corr_nor_10) - min(corr_nor_10))\n",
        "  corr_nor_10_norm.append(value_norm)"
      ],
      "metadata": {
        "id": "dfu_0V0io0Zd"
      },
      "execution_count": null,
      "outputs": []
    },
    {
      "cell_type": "code",
      "source": [
        "corr_nor_200_norm= []\n",
        "for value in corr_nor_200:\n",
        "  value_norm = (value - min(corr_nor_200))/(max(corr_nor_200) - min(corr_nor_200))\n",
        "  corr_nor_200_norm.append(value_norm)"
      ],
      "metadata": {
        "id": "Y51XqYyoMPR9"
      },
      "execution_count": null,
      "outputs": []
    },
    {
      "cell_type": "code",
      "source": [
        "corr_nor_300_norm= []\n",
        "for value in corr_nor_300:\n",
        "  value_norm = (value - min(corr_nor_300))/(max(corr_nor_300) - min(corr_nor_300))\n",
        "  corr_nor_300_norm.append(value_norm)"
      ],
      "metadata": {
        "id": "FNAsbRdkMV4x"
      },
      "execution_count": null,
      "outputs": []
    },
    {
      "cell_type": "code",
      "source": [
        "corr_nor_0_norm= []\n",
        "for value in corr_nor_0:\n",
        "  value_norm = (value - min(corr_nor_0))/(max(corr_nor_0) - min(corr_nor_0))\n",
        "  corr_nor_0_norm.append(value_norm)"
      ],
      "metadata": {
        "id": "XjhcyilLrih1"
      },
      "execution_count": null,
      "outputs": []
    },
    {
      "cell_type": "code",
      "source": [
        "from IPython.core.pylabtools import figsize\n",
        "import matplotlib.pyplot as plt\n",
        "\n",
        "fig, ax = plt.subplots(figsize = (10, 7))\n",
        "\n",
        "labels = [\"0.1\", \"0.2\", \"0.3\", \"0.4\", \"0.5\", \"0.6\", \"0.7\", \"0.8\", \"0.9\"]\n",
        "def set_axis_style(ax, labels):\n",
        "  ax.get_xaxis().set_tick_params(direction='out')\n",
        "  ax.xaxis.set_ticks_position('bottom')\n",
        "  ax.set_xticks([0,2,4,6,8,10,12,14,16])\n",
        "  ax.set_xticklabels(labels)\n",
        "\n",
        "#plt.title(\"Pagerank - NoR rank correlation for damping factor value\", fontsize=13)\n",
        "plt.ylabel(\"Normalized Kendall-tau score\")\n",
        "plt.xlabel(\"Damping factor value\")\n",
        "set_axis_style(ax, labels)\n",
        "plt.plot(corr_nor_100_norm, \"v-\",label = \"> 100 nodes\")\n",
        "plt.plot(corr_nor_50_norm,\"^-\", label = \"> 50 nodes\")\n",
        "plt.plot(corr_nor_10_norm,\"o-\", label = \"> 10 nodes\")\n",
        "plt.plot(corr_nor_0_norm, label = \"> 0 nodes\")\n",
        "#plt.plot(corr_nor_200_norm)\n",
        "#plt.plot(corr_nor_300_norm)\n",
        "plt.legend()\n",
        "plt.show()"
      ],
      "metadata": {
        "colab": {
          "base_uri": "https://localhost:8080/",
          "height": 458
        },
        "id": "qgeSPtjZi49W",
        "outputId": "e03f97f2-8e7a-4f42-d355-07b03794bb8b"
      },
      "execution_count": null,
      "outputs": [
        {
          "output_type": "display_data",
          "data": {
            "text/plain": [
              "<Figure size 720x504 with 1 Axes>"
            ],
            "image/png": "[encoded data removed]"
          },
          "metadata": {
            "needs_background": "light"
          }
        }
      ]
    }
  ]
}