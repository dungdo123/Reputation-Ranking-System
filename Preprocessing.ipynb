{
  "nbformat": 4,
  "nbformat_minor": 0,
  "metadata": {
    "colab": {
      "name": "Preprocessing.ipynb",
      "provenance": [],
      "collapsed_sections": []
    },
    "kernelspec": {
      "name": "python3",
      "display_name": "Python 3"
    },
    "language_info": {
      "name": "python"
    }
  },
  "cells": [
    {
      "cell_type": "code",
      "execution_count": null,
      "metadata": {
        "colab": {
          "base_uri": "https://localhost:8080/"
        },
        "id": "p0aCedz1u2Kh",
        "outputId": "09cd8589-f868-46c1-8fcc-f46214628d08"
      },
      "outputs": [
        {
          "output_type": "stream",
          "name": "stdout",
          "text": [
            "Drive already mounted at /content/gdrive; to attempt to forcibly remount, call drive.mount(\"/content/gdrive\", force_remount=True).\n"
          ]
        }
      ],
      "source": [
        "from google.colab import drive\n",
        "drive.mount('/content/gdrive')\n"
      ]
    },
    {
      "cell_type": "code",
      "source": [
        "import pandas as pd\n",
        "import numpy as np"
      ],
      "metadata": {
        "id": "VUnN8TIEvz5l"
      },
      "execution_count": null,
      "outputs": []
    },
    {
      "cell_type": "code",
      "source": [
        "raw_dataset = pd.read_csv(\"BigQuery_Ethereum_Dataset.csv\")\n"
      ],
      "metadata": {
        "id": "I6MelAdqMS5_"
      },
      "execution_count": null,
      "outputs": []
    },
    {
      "cell_type": "markdown",
      "source": [
        "Remove multiple edges between two nodes"
      ],
      "metadata": {
        "id": "_Nr0wyQAeEIX"
      }
    },
    {
      "cell_type": "code",
      "source": [
        "pairs = []\n",
        "pairs_value = []\n",
        "count = 0\n",
        "for index, row in raw_dataset.iterrows():\n",
        "  #if str(row[\"input\"]) != str(row[\"output\"]):\n",
        "  pair = {\"input_key\": row[\"input\"], \"output_key\": row[\"output\"]}\n",
        "  if pair not in pairs:\n",
        "    pairs.append(pair)\n",
        "df_pairs = pd.DataFrame(pairs)\n",
        "\n"
      ],
      "metadata": {
        "id": "QwuFWRydQKqk"
      },
      "execution_count": null,
      "outputs": []
    },
    {
      "cell_type": "markdown",
      "source": [
        "Masking Nodes with ID"
      ],
      "metadata": {
        "id": "4kN_SUR9ivmJ"
      }
    },
    {
      "cell_type": "code",
      "source": [
        "address_list = []\n",
        "trans_list = []\n",
        "for index, row in df_pairs.iterrows():\n",
        "  if row[\"input_key\"] not in address_list:\n",
        "    address_list.append(row[\"input_key\"])\n",
        "  if row[\"output_key\"] not in address_list:\n",
        "    address_list.append(row[\"output_key\"])\n",
        "  df_row = {'from': address_list.index(row[\"input_key\"]),\n",
        "            'to': address_list.index(row[\"output_key\"])}\n",
        "  trans_list.append(df_row)\n",
        "\n",
        "df_trans_list = pd.DataFrame(trans_list)\n",
        "df_address_list = pd.DataFrame(address_list)\n",
        "df_trans_list.to_csv(\"masked_dataset.csv\", index=False)\n",
        "df_address_list.to_csv(\"address_list.csv\", index=False)"
      ],
      "metadata": {
        "id": "vegeA3gGixEv"
      },
      "execution_count": null,
      "outputs": []
    },
    {
      "cell_type": "markdown",
      "source": [
        "**Basic analysis**"
      ],
      "metadata": {
        "id": "gn_pr-5MXOqa"
      }
    },
    {
      "cell_type": "markdown",
      "source": [
        "counting number of transaction"
      ],
      "metadata": {
        "id": "yZwEwu2CZxLY"
      }
    },
    {
      "cell_type": "code",
      "source": [
        "node_list = []\n",
        "for index, row in df_trans_list.iterrows():\n",
        "  if row[\"from\"] not in node_list:\n",
        "    node_list.append(row[\"from\"])\n",
        "  if row[\"to\"] not in node_list:\n",
        "    node_list.append(row[\"to\"])\n",
        "in_count = np.zeros(len(node_list))\n",
        "out_count = np.zeros(len(node_list))\n",
        "for index, row in df_trans_list.iterrows():\n",
        "  i_in = int(row[\"from\"])\n",
        "  i_out = int(row[\"to\"])\n",
        "  in_count[i_in] = in_count[i_in] + 1\n",
        "  out_count[i_out] = out_count[i_out] + 1\n"
      ],
      "metadata": {
        "id": "wUftTMiZXQ0R"
      },
      "execution_count": null,
      "outputs": []
    },
    {
      "cell_type": "code",
      "source": [
        "# create table with total transfer\n",
        "total_list = []\n",
        "for j in range(len(node_list)):\n",
        "  total_row = {\n",
        "      \"node\": node_list[j],\n",
        "      \"in\": in_count[j],\n",
        "      \"out\": out_count[j],\n",
        "      \"total\": in_count[j] + out_count[j]\n",
        "  }\n",
        "  total_list.append(total_row)\n",
        "\n",
        "df_total_list = pd.DataFrame(total_list)\n",
        "df_total_list.to_csv(\"node_degree_list.csv\", index=False)"
      ],
      "metadata": {
        "id": "pgO7eefbrwXw"
      },
      "execution_count": null,
      "outputs": []
    },
    {
      "cell_type": "code",
      "source": [
        "# sort list of node degree\n",
        "rank_total_list = sorted(total_list, key = lambda row_: row_[\"total\"], reverse=True)\n",
        "df_sorted_node_degree_list = pd.DataFrame(rank_total_list)\n",
        "df_sorted_node_degree_list.to_csv('sorted_node_degree.csv', index=False)"
      ],
      "metadata": {
        "id": "jfIsq3zqfPjg"
      },
      "execution_count": null,
      "outputs": []
    },
    {
      "cell_type": "markdown",
      "source": [
        "Visualize distribution"
      ],
      "metadata": {
        "id": "bUtjVvb_uftc"
      }
    },
    {
      "cell_type": "code",
      "source": [
        "# draw total transaction based on address\n",
        "total_trans = df_sorted_node_degree_list[:100].total\n",
        "total_trans_address = df_sorted_node_degree_list[:100].node.astype(str)"
      ],
      "metadata": {
        "id": "j9wYkdgpuisu"
      },
      "execution_count": null,
      "outputs": []
    },
    {
      "cell_type": "code",
      "source": [
        "from matplotlib import pyplot as plt\n",
        "plt.figure(figsize=(20,5))\n",
        "plt.bar(total_trans_address, total_trans)\n",
        "plt.xlabel(\"Nodes\")\n",
        "plt.ylabel(\"Number of transactions\")\n",
        "ax = plt.gca()\n",
        "ax.axes.xaxis.set_ticklabels([])\n",
        "plt.show()\n"
      ],
      "metadata": {
        "colab": {
          "base_uri": "https://localhost:8080/",
          "height": 304
        },
        "id": "N2Px-SXMxe3c",
        "outputId": "4c7621aa-220e-4b45-a38e-358f2b5ddd29"
      },
      "execution_count": null,
      "outputs": [
        {
          "output_type": "display_data",
          "data": {
            "text/plain": [
              "<Figure size 1440x360 with 1 Axes>"
            ],
            "image/png": "[encoded data removed]"
          },
          "metadata": {
            "needs_background": "light"
          }
        }
      ]
    },
    {
      "cell_type": "code",
      "source": [
        "df_rank_total_p1 = df_sorted_node_degree_list.total[:100]\n",
        "df_rank_total_p2 = df_sorted_node_degree_list.total[100:300]\n",
        "df_rank_total_p3 = df_sorted_node_degree_list.total[300:1000]\n",
        "df_rank_total_p4 = df_sorted_node_degree_list.total[1000:]"
      ],
      "metadata": {
        "id": "teG6PZCCx5Od"
      },
      "execution_count": null,
      "outputs": []
    },
    {
      "cell_type": "code",
      "source": [
        "df_rank_norm_p1 = (df_rank_total_p1 - df_rank_total_p1.min())/(df_rank_total_p1.max() - df_rank_total_p1.min())\n",
        "df_rank_norm_p2 = (df_rank_total_p2 - df_rank_total_p2.min())/(df_rank_total_p2.max() - df_rank_total_p2.min())\n",
        "df_rank_norm_p3 = (df_rank_total_p3 - df_rank_total_p3.min())/(df_rank_total_p3.max() - df_rank_total_p3.min())\n",
        "df_rank_norm_p4 = (df_rank_total_p4 - df_rank_total_p4.min())/(df_rank_total_p4.max() - df_rank_total_p4.min())"
      ],
      "metadata": {
        "id": "nfTnebzlycMk"
      },
      "execution_count": null,
      "outputs": []
    },
    {
      "cell_type": "code",
      "source": [
        "print(df_rank_total_p1.mean())\n",
        "print(df_rank_total_p2.mean())\n",
        "print(df_rank_total_p3.mean())\n",
        "print(df_rank_total_p4.mean())"
      ],
      "metadata": {
        "colab": {
          "base_uri": "https://localhost:8080/"
        },
        "id": "hCWXC05YyfRS",
        "outputId": "14573a4f-7216-490e-c7e7-7bc45055c91b"
      },
      "execution_count": null,
      "outputs": [
        {
          "output_type": "stream",
          "name": "stdout",
          "text": [
            "191.71\n",
            "14.95\n",
            "3.867142857142857\n",
            "1.0354635791776825\n"
          ]
        }
      ]
    },
    {
      "cell_type": "code",
      "source": [
        "dataset = [df_rank_norm_p1, df_rank_norm_p2, df_rank_norm_p3, df_rank_norm_p4]"
      ],
      "metadata": {
        "id": "OrzYbZfnyghE"
      },
      "execution_count": null,
      "outputs": []
    },
    {
      "cell_type": "code",
      "source": [
        "plt.figure(figsize=(12,10))\n",
        "plt.xlabel(\"Data clusters\")\n",
        "plt.ylabel(\"Normalized number of transaction\")\n",
        "plt.boxplot(dataset)\n",
        "\n",
        "plt.show()"
      ],
      "metadata": {
        "colab": {
          "base_uri": "https://localhost:8080/",
          "height": 661
        },
        "id": "tB0qxfKSykwL",
        "outputId": "3c3b1f46-8222-42d5-c666-885cdf49391e"
      },
      "execution_count": null,
      "outputs": [
        {
          "output_type": "stream",
          "name": "stderr",
          "text": [
            "/usr/local/lib/python3.7/dist-packages/matplotlib/cbook/__init__.py:1376: VisibleDeprecationWarning: Creating an ndarray from ragged nested sequences (which is a list-or-tuple of lists-or-tuples-or ndarrays with different lengths or shapes) is deprecated. If you meant to do this, you must specify 'dtype=object' when creating the ndarray.\n",
            "  X = np.atleast_1d(X.T if isinstance(X, np.ndarray) else np.asarray(X))\n"
          ]
        },
        {
          "output_type": "display_data",
          "data": {
            "text/plain": [
              "<Figure size 864x720 with 1 Axes>"
            ],
            "image/png": "[encoded data removed]"
          },
          "metadata": {
            "needs_background": "light"
          }
        }
      ]
    }
  ]
}